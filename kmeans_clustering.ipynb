{
  "nbformat": 4,
  "nbformat_minor": 0,
  "metadata": {
    "colab": {
      "provenance": []
    },
    "kernelspec": {
      "name": "python3",
      "display_name": "Python 3"
    },
    "language_info": {
      "name": "python"
    }
  },
  "cells": [
    {
      "cell_type": "markdown",
      "source": [
        "#**Importing the Data**"
      ],
      "metadata": {
        "id": "ioc6N0uk-DA8"
      }
    },
    {
      "cell_type": "code",
      "execution_count": null,
      "metadata": {
        "id": "rmyIimnUNzll"
      },
      "outputs": [],
      "source": [
        "import numpy as np\n",
        "import pandas as pd \n",
        "import os"
      ]
    },
    {
      "cell_type": "code",
      "source": [
        "TAColumns = [\n",
        "    'Unique user id',\n",
        "    'Average ratings on art galleries',\n",
        "    'Average ratings on dance clubs',\n",
        "    'Average ratings on juice bars',\n",
        "    'Average ratings on restaurants',\n",
        "    'Average ratings on museums',\n",
        "    'Average ratings on resorts',\n",
        "    'Average ratings on parks',\n",
        "    'Average ratings on beaches',\n",
        "    'Average ratings on theatres',\n",
        "    'Average ratings on religious institutions'\n",
        "]\n",
        "\n",
        "TAData = pd.read_csv('/content/sample_data/tripadvisor_review.csv', header=0, names=TAColumns)\n",
        "TAData = TAData.set_index('Unique user id')"
      ],
      "metadata": {
        "id": "2cO8HgmGQ5im"
      },
      "execution_count": null,
      "outputs": []
    },
    {
      "cell_type": "code",
      "source": [
        "TAData"
      ],
      "metadata": {
        "colab": {
          "base_uri": "https://localhost:8080/",
          "height": 551
        },
        "id": "iXxmHxwDR2H7",
        "outputId": "41566a6f-f7ce-4f81-94ad-e2c2ece47e5a"
      },
      "execution_count": null,
      "outputs": [
        {
          "output_type": "execute_result",
          "data": {
            "text/plain": [
              "                Average ratings on art galleries  \\\n",
              "Unique user id                                     \n",
              "User 1                                      0.93   \n",
              "User 2                                      1.02   \n",
              "User 3                                      1.22   \n",
              "User 4                                      0.45   \n",
              "User 5                                      0.51   \n",
              "...                                          ...   \n",
              "User 976                                    0.74   \n",
              "User 977                                    1.25   \n",
              "User 978                                    0.61   \n",
              "User 979                                    0.93   \n",
              "User 980                                    0.93   \n",
              "\n",
              "                Average ratings on dance clubs  Average ratings on juice bars  \\\n",
              "Unique user id                                                                  \n",
              "User 1                                    1.80                           2.29   \n",
              "User 2                                    2.20                           2.66   \n",
              "User 3                                    0.80                           0.54   \n",
              "User 4                                    1.80                           0.29   \n",
              "User 5                                    1.20                           1.18   \n",
              "...                                        ...                            ...   \n",
              "User 976                                  1.12                           0.30   \n",
              "User 977                                  0.92                           1.12   \n",
              "User 978                                  1.32                           0.67   \n",
              "User 979                                  0.20                           0.13   \n",
              "User 980                                  0.56                           1.13   \n",
              "\n",
              "                Average ratings on restaurants  Average ratings on museums  \\\n",
              "Unique user id                                                               \n",
              "User 1                                    0.62                        0.80   \n",
              "User 2                                    0.64                        1.42   \n",
              "User 3                                    0.53                        0.24   \n",
              "User 4                                    0.57                        0.46   \n",
              "User 5                                    0.57                        1.54   \n",
              "...                                        ...                         ...   \n",
              "User 976                                  0.53                        0.88   \n",
              "User 977                                  0.38                        0.78   \n",
              "User 978                                  0.43                        1.30   \n",
              "User 979                                  0.43                        0.30   \n",
              "User 980                                  0.51                        1.34   \n",
              "\n",
              "                Average ratings on resorts  Average ratings on parks  \\\n",
              "Unique user id                                                         \n",
              "User 1                                2.42                      3.19   \n",
              "User 2                                3.18                      3.21   \n",
              "User 3                                1.54                      3.18   \n",
              "User 4                                1.52                      3.18   \n",
              "User 5                                2.02                      3.18   \n",
              "...                                    ...                       ...   \n",
              "User 976                              1.38                      3.17   \n",
              "User 977                              1.68                      3.18   \n",
              "User 978                              1.78                      3.17   \n",
              "User 979                              0.40                      3.18   \n",
              "User 980                              2.36                      3.18   \n",
              "\n",
              "                Average ratings on beaches  Average ratings on theatres  \\\n",
              "Unique user id                                                            \n",
              "User 1                                2.79                         1.82   \n",
              "User 2                                2.63                         1.86   \n",
              "User 3                                2.80                         1.31   \n",
              "User 4                                2.96                         1.57   \n",
              "User 5                                2.78                         1.18   \n",
              "...                                    ...                          ...   \n",
              "User 976                              2.78                         0.99   \n",
              "User 977                              2.79                         1.34   \n",
              "User 978                              2.81                         1.34   \n",
              "User 979                              2.98                         1.12   \n",
              "User 980                              2.87                         1.34   \n",
              "\n",
              "                Average ratings on religious institutions  \n",
              "Unique user id                                             \n",
              "User 1                                               2.42  \n",
              "User 2                                               2.32  \n",
              "User 3                                               2.50  \n",
              "User 4                                               2.86  \n",
              "User 5                                               2.54  \n",
              "...                                                   ...  \n",
              "User 976                                             3.20  \n",
              "User 977                                             2.80  \n",
              "User 978                                             3.02  \n",
              "User 979                                             2.46  \n",
              "User 980                                             2.40  \n",
              "\n",
              "[980 rows x 10 columns]"
            ],
            "text/html": [
              "\n",
              "  <div id=\"df-0d4f4d69-8123-4d4b-bbd2-db3ef968256e\">\n",
              "    <div class=\"colab-df-container\">\n",
              "      <div>\n",
              "<style scoped>\n",
              "    .dataframe tbody tr th:only-of-type {\n",
              "        vertical-align: middle;\n",
              "    }\n",
              "\n",
              "    .dataframe tbody tr th {\n",
              "        vertical-align: top;\n",
              "    }\n",
              "\n",
              "    .dataframe thead th {\n",
              "        text-align: right;\n",
              "    }\n",
              "</style>\n",
              "<table border=\"1\" class=\"dataframe\">\n",
              "  <thead>\n",
              "    <tr style=\"text-align: right;\">\n",
              "      <th></th>\n",
              "      <th>Average ratings on art galleries</th>\n",
              "      <th>Average ratings on dance clubs</th>\n",
              "      <th>Average ratings on juice bars</th>\n",
              "      <th>Average ratings on restaurants</th>\n",
              "      <th>Average ratings on museums</th>\n",
              "      <th>Average ratings on resorts</th>\n",
              "      <th>Average ratings on parks</th>\n",
              "      <th>Average ratings on beaches</th>\n",
              "      <th>Average ratings on theatres</th>\n",
              "      <th>Average ratings on religious institutions</th>\n",
              "    </tr>\n",
              "    <tr>\n",
              "      <th>Unique user id</th>\n",
              "      <th></th>\n",
              "      <th></th>\n",
              "      <th></th>\n",
              "      <th></th>\n",
              "      <th></th>\n",
              "      <th></th>\n",
              "      <th></th>\n",
              "      <th></th>\n",
              "      <th></th>\n",
              "      <th></th>\n",
              "    </tr>\n",
              "  </thead>\n",
              "  <tbody>\n",
              "    <tr>\n",
              "      <th>User 1</th>\n",
              "      <td>0.93</td>\n",
              "      <td>1.80</td>\n",
              "      <td>2.29</td>\n",
              "      <td>0.62</td>\n",
              "      <td>0.80</td>\n",
              "      <td>2.42</td>\n",
              "      <td>3.19</td>\n",
              "      <td>2.79</td>\n",
              "      <td>1.82</td>\n",
              "      <td>2.42</td>\n",
              "    </tr>\n",
              "    <tr>\n",
              "      <th>User 2</th>\n",
              "      <td>1.02</td>\n",
              "      <td>2.20</td>\n",
              "      <td>2.66</td>\n",
              "      <td>0.64</td>\n",
              "      <td>1.42</td>\n",
              "      <td>3.18</td>\n",
              "      <td>3.21</td>\n",
              "      <td>2.63</td>\n",
              "      <td>1.86</td>\n",
              "      <td>2.32</td>\n",
              "    </tr>\n",
              "    <tr>\n",
              "      <th>User 3</th>\n",
              "      <td>1.22</td>\n",
              "      <td>0.80</td>\n",
              "      <td>0.54</td>\n",
              "      <td>0.53</td>\n",
              "      <td>0.24</td>\n",
              "      <td>1.54</td>\n",
              "      <td>3.18</td>\n",
              "      <td>2.80</td>\n",
              "      <td>1.31</td>\n",
              "      <td>2.50</td>\n",
              "    </tr>\n",
              "    <tr>\n",
              "      <th>User 4</th>\n",
              "      <td>0.45</td>\n",
              "      <td>1.80</td>\n",
              "      <td>0.29</td>\n",
              "      <td>0.57</td>\n",
              "      <td>0.46</td>\n",
              "      <td>1.52</td>\n",
              "      <td>3.18</td>\n",
              "      <td>2.96</td>\n",
              "      <td>1.57</td>\n",
              "      <td>2.86</td>\n",
              "    </tr>\n",
              "    <tr>\n",
              "      <th>User 5</th>\n",
              "      <td>0.51</td>\n",
              "      <td>1.20</td>\n",
              "      <td>1.18</td>\n",
              "      <td>0.57</td>\n",
              "      <td>1.54</td>\n",
              "      <td>2.02</td>\n",
              "      <td>3.18</td>\n",
              "      <td>2.78</td>\n",
              "      <td>1.18</td>\n",
              "      <td>2.54</td>\n",
              "    </tr>\n",
              "    <tr>\n",
              "      <th>...</th>\n",
              "      <td>...</td>\n",
              "      <td>...</td>\n",
              "      <td>...</td>\n",
              "      <td>...</td>\n",
              "      <td>...</td>\n",
              "      <td>...</td>\n",
              "      <td>...</td>\n",
              "      <td>...</td>\n",
              "      <td>...</td>\n",
              "      <td>...</td>\n",
              "    </tr>\n",
              "    <tr>\n",
              "      <th>User 976</th>\n",
              "      <td>0.74</td>\n",
              "      <td>1.12</td>\n",
              "      <td>0.30</td>\n",
              "      <td>0.53</td>\n",
              "      <td>0.88</td>\n",
              "      <td>1.38</td>\n",
              "      <td>3.17</td>\n",
              "      <td>2.78</td>\n",
              "      <td>0.99</td>\n",
              "      <td>3.20</td>\n",
              "    </tr>\n",
              "    <tr>\n",
              "      <th>User 977</th>\n",
              "      <td>1.25</td>\n",
              "      <td>0.92</td>\n",
              "      <td>1.12</td>\n",
              "      <td>0.38</td>\n",
              "      <td>0.78</td>\n",
              "      <td>1.68</td>\n",
              "      <td>3.18</td>\n",
              "      <td>2.79</td>\n",
              "      <td>1.34</td>\n",
              "      <td>2.80</td>\n",
              "    </tr>\n",
              "    <tr>\n",
              "      <th>User 978</th>\n",
              "      <td>0.61</td>\n",
              "      <td>1.32</td>\n",
              "      <td>0.67</td>\n",
              "      <td>0.43</td>\n",
              "      <td>1.30</td>\n",
              "      <td>1.78</td>\n",
              "      <td>3.17</td>\n",
              "      <td>2.81</td>\n",
              "      <td>1.34</td>\n",
              "      <td>3.02</td>\n",
              "    </tr>\n",
              "    <tr>\n",
              "      <th>User 979</th>\n",
              "      <td>0.93</td>\n",
              "      <td>0.20</td>\n",
              "      <td>0.13</td>\n",
              "      <td>0.43</td>\n",
              "      <td>0.30</td>\n",
              "      <td>0.40</td>\n",
              "      <td>3.18</td>\n",
              "      <td>2.98</td>\n",
              "      <td>1.12</td>\n",
              "      <td>2.46</td>\n",
              "    </tr>\n",
              "    <tr>\n",
              "      <th>User 980</th>\n",
              "      <td>0.93</td>\n",
              "      <td>0.56</td>\n",
              "      <td>1.13</td>\n",
              "      <td>0.51</td>\n",
              "      <td>1.34</td>\n",
              "      <td>2.36</td>\n",
              "      <td>3.18</td>\n",
              "      <td>2.87</td>\n",
              "      <td>1.34</td>\n",
              "      <td>2.40</td>\n",
              "    </tr>\n",
              "  </tbody>\n",
              "</table>\n",
              "<p>980 rows × 10 columns</p>\n",
              "</div>\n",
              "      <button class=\"colab-df-convert\" onclick=\"convertToInteractive('df-0d4f4d69-8123-4d4b-bbd2-db3ef968256e')\"\n",
              "              title=\"Convert this dataframe to an interactive table.\"\n",
              "              style=\"display:none;\">\n",
              "        \n",
              "  <svg xmlns=\"http://www.w3.org/2000/svg\" height=\"24px\"viewBox=\"0 0 24 24\"\n",
              "       width=\"24px\">\n",
              "    <path d=\"M0 0h24v24H0V0z\" fill=\"none\"/>\n",
              "    <path d=\"M18.56 5.44l.94 2.06.94-2.06 2.06-.94-2.06-.94-.94-2.06-.94 2.06-2.06.94zm-11 1L8.5 8.5l.94-2.06 2.06-.94-2.06-.94L8.5 2.5l-.94 2.06-2.06.94zm10 10l.94 2.06.94-2.06 2.06-.94-2.06-.94-.94-2.06-.94 2.06-2.06.94z\"/><path d=\"M17.41 7.96l-1.37-1.37c-.4-.4-.92-.59-1.43-.59-.52 0-1.04.2-1.43.59L10.3 9.45l-7.72 7.72c-.78.78-.78 2.05 0 2.83L4 21.41c.39.39.9.59 1.41.59.51 0 1.02-.2 1.41-.59l7.78-7.78 2.81-2.81c.8-.78.8-2.07 0-2.86zM5.41 20L4 18.59l7.72-7.72 1.47 1.35L5.41 20z\"/>\n",
              "  </svg>\n",
              "      </button>\n",
              "      \n",
              "  <style>\n",
              "    .colab-df-container {\n",
              "      display:flex;\n",
              "      flex-wrap:wrap;\n",
              "      gap: 12px;\n",
              "    }\n",
              "\n",
              "    .colab-df-convert {\n",
              "      background-color: #E8F0FE;\n",
              "      border: none;\n",
              "      border-radius: 50%;\n",
              "      cursor: pointer;\n",
              "      display: none;\n",
              "      fill: #1967D2;\n",
              "      height: 32px;\n",
              "      padding: 0 0 0 0;\n",
              "      width: 32px;\n",
              "    }\n",
              "\n",
              "    .colab-df-convert:hover {\n",
              "      background-color: #E2EBFA;\n",
              "      box-shadow: 0px 1px 2px rgba(60, 64, 67, 0.3), 0px 1px 3px 1px rgba(60, 64, 67, 0.15);\n",
              "      fill: #174EA6;\n",
              "    }\n",
              "\n",
              "    [theme=dark] .colab-df-convert {\n",
              "      background-color: #3B4455;\n",
              "      fill: #D2E3FC;\n",
              "    }\n",
              "\n",
              "    [theme=dark] .colab-df-convert:hover {\n",
              "      background-color: #434B5C;\n",
              "      box-shadow: 0px 1px 3px 1px rgba(0, 0, 0, 0.15);\n",
              "      filter: drop-shadow(0px 1px 2px rgba(0, 0, 0, 0.3));\n",
              "      fill: #FFFFFF;\n",
              "    }\n",
              "  </style>\n",
              "\n",
              "      <script>\n",
              "        const buttonEl =\n",
              "          document.querySelector('#df-0d4f4d69-8123-4d4b-bbd2-db3ef968256e button.colab-df-convert');\n",
              "        buttonEl.style.display =\n",
              "          google.colab.kernel.accessAllowed ? 'block' : 'none';\n",
              "\n",
              "        async function convertToInteractive(key) {\n",
              "          const element = document.querySelector('#df-0d4f4d69-8123-4d4b-bbd2-db3ef968256e');\n",
              "          const dataTable =\n",
              "            await google.colab.kernel.invokeFunction('convertToInteractive',\n",
              "                                                     [key], {});\n",
              "          if (!dataTable) return;\n",
              "\n",
              "          const docLinkHtml = 'Like what you see? Visit the ' +\n",
              "            '<a target=\"_blank\" href=https://colab.research.google.com/notebooks/data_table.ipynb>data table notebook</a>'\n",
              "            + ' to learn more about interactive tables.';\n",
              "          element.innerHTML = '';\n",
              "          dataTable['output_type'] = 'display_data';\n",
              "          await google.colab.output.renderOutput(dataTable, element);\n",
              "          const docLink = document.createElement('div');\n",
              "          docLink.innerHTML = docLinkHtml;\n",
              "          element.appendChild(docLink);\n",
              "        }\n",
              "      </script>\n",
              "    </div>\n",
              "  </div>\n",
              "  "
            ]
          },
          "metadata": {},
          "execution_count": 14
        }
      ]
    },
    {
      "cell_type": "markdown",
      "source": [
        "# **Exploring our Datasets and Initial Analysis**"
      ],
      "metadata": {
        "id": "2cp1TSHZ67jN"
      }
    },
    {
      "cell_type": "markdown",
      "source": [
        "First we looked at the data and created a chart to show the differences in rating between the different categories"
      ],
      "metadata": {
        "id": "OoSqlVUf7HeK"
      }
    },
    {
      "cell_type": "code",
      "source": [
        "# Rank the categories by highest average:\n",
        "TAAvg = TAData.mean(axis=0).round(2)\n",
        "print(TAAvg.sort_values(ascending = False))\n",
        "TAAvg.plot.bar()"
      ],
      "metadata": {
        "colab": {
          "base_uri": "https://localhost:8080/",
          "height": 671
        },
        "id": "xiULRSh86-b0",
        "outputId": "eeb02442-fe34-47b0-ea45-645ed988ffe3"
      },
      "execution_count": null,
      "outputs": [
        {
          "output_type": "stream",
          "name": "stdout",
          "text": [
            "Average ratings on parks                     3.18\n",
            "Average ratings on beaches                   2.84\n",
            "Average ratings on religious institutions    2.80\n",
            "Average ratings on resorts                   1.84\n",
            "Average ratings on theatres                  1.57\n",
            "Average ratings on dance clubs               1.35\n",
            "Average ratings on juice bars                1.01\n",
            "Average ratings on museums                   0.94\n",
            "Average ratings on art galleries             0.89\n",
            "Average ratings on restaurants               0.53\n",
            "dtype: float64\n"
          ]
        },
        {
          "output_type": "execute_result",
          "data": {
            "text/plain": [
              "<matplotlib.axes._subplots.AxesSubplot at 0x7f23cb154890>"
            ]
          },
          "metadata": {},
          "execution_count": 15
        },
        {
          "output_type": "display_data",
          "data": {
            "text/plain": [
              "<Figure size 432x288 with 1 Axes>"
            ],
            "image/png": "[encoded data removed]"
          },
          "metadata": {
            "needs_background": "light"
          }
        }
      ]
    },
    {
      "cell_type": "code",
      "source": [
        "mostLike = []\n",
        "for col in TAColumns[1:]:\n",
        "    mask = (TAData[col] >= 1)\n",
        "    try:\n",
        "        ratio = (mask.value_counts()[True] / (mask.value_counts()[False]+mask.value_counts()[True]))*100\n",
        "        print(str(ratio.round(2)) + '% users considered near average or above for', col)\n",
        "        if ratio > 50:\n",
        "            mostLike.append(col)\n",
        "    except:\n",
        "        print('100% users considered near average or above for', col)\n",
        "        mostLike.append(col)\n",
        "print('--------------------------------------')\n",
        "print('Attractions that most people think are near average or above:') \n",
        "TAData[mostLike].head()"
      ],
      "metadata": {
        "colab": {
          "base_uri": "https://localhost:8080/",
          "height": 497
        },
        "id": "f-PzzL7q9Zeh",
        "outputId": "405a6dca-be4c-4994-d1c5-3a1ba28098b4"
      },
      "execution_count": null,
      "outputs": [
        {
          "output_type": "stream",
          "name": "stdout",
          "text": [
            "27.14% users considered near average or above for Average ratings on art galleries\n",
            "82.76% users considered near average or above for Average ratings on dance clubs\n",
            "44.9% users considered near average or above for Average ratings on juice bars\n",
            "3.16% users considered near average or above for Average ratings on restaurants\n",
            "40.61% users considered near average or above for Average ratings on museums\n",
            "95.31% users considered near average or above for Average ratings on resorts\n",
            "100% users considered near average or above for Average ratings on parks\n",
            "100% users considered near average or above for Average ratings on beaches\n",
            "97.86% users considered near average or above for Average ratings on theatres\n",
            "100% users considered near average or above for Average ratings on religious institutions\n",
            "--------------------------------------\n",
            "Attractions that most people think are near average or above:\n"
          ]
        },
        {
          "output_type": "execute_result",
          "data": {
            "text/plain": [
              "                Average ratings on dance clubs  Average ratings on resorts  \\\n",
              "Unique user id                                                               \n",
              "User 1                                     1.8                        2.42   \n",
              "User 2                                     2.2                        3.18   \n",
              "User 3                                     0.8                        1.54   \n",
              "User 4                                     1.8                        1.52   \n",
              "User 5                                     1.2                        2.02   \n",
              "\n",
              "                Average ratings on parks  Average ratings on beaches  \\\n",
              "Unique user id                                                         \n",
              "User 1                              3.19                        2.79   \n",
              "User 2                              3.21                        2.63   \n",
              "User 3                              3.18                        2.80   \n",
              "User 4                              3.18                        2.96   \n",
              "User 5                              3.18                        2.78   \n",
              "\n",
              "                Average ratings on theatres  \\\n",
              "Unique user id                                \n",
              "User 1                                 1.82   \n",
              "User 2                                 1.86   \n",
              "User 3                                 1.31   \n",
              "User 4                                 1.57   \n",
              "User 5                                 1.18   \n",
              "\n",
              "                Average ratings on religious institutions  \n",
              "Unique user id                                             \n",
              "User 1                                               2.42  \n",
              "User 2                                               2.32  \n",
              "User 3                                               2.50  \n",
              "User 4                                               2.86  \n",
              "User 5                                               2.54  "
            ],
            "text/html": [
              "\n",
              "  <div id=\"df-8d31d596-9276-4bf8-97d4-dde94aab0a0a\">\n",
              "    <div class=\"colab-df-container\">\n",
              "      <div>\n",
              "<style scoped>\n",
              "    .dataframe tbody tr th:only-of-type {\n",
              "        vertical-align: middle;\n",
              "    }\n",
              "\n",
              "    .dataframe tbody tr th {\n",
              "        vertical-align: top;\n",
              "    }\n",
              "\n",
              "    .dataframe thead th {\n",
              "        text-align: right;\n",
              "    }\n",
              "</style>\n",
              "<table border=\"1\" class=\"dataframe\">\n",
              "  <thead>\n",
              "    <tr style=\"text-align: right;\">\n",
              "      <th></th>\n",
              "      <th>Average ratings on dance clubs</th>\n",
              "      <th>Average ratings on resorts</th>\n",
              "      <th>Average ratings on parks</th>\n",
              "      <th>Average ratings on beaches</th>\n",
              "      <th>Average ratings on theatres</th>\n",
              "      <th>Average ratings on religious institutions</th>\n",
              "    </tr>\n",
              "    <tr>\n",
              "      <th>Unique user id</th>\n",
              "      <th></th>\n",
              "      <th></th>\n",
              "      <th></th>\n",
              "      <th></th>\n",
              "      <th></th>\n",
              "      <th></th>\n",
              "    </tr>\n",
              "  </thead>\n",
              "  <tbody>\n",
              "    <tr>\n",
              "      <th>User 1</th>\n",
              "      <td>1.8</td>\n",
              "      <td>2.42</td>\n",
              "      <td>3.19</td>\n",
              "      <td>2.79</td>\n",
              "      <td>1.82</td>\n",
              "      <td>2.42</td>\n",
              "    </tr>\n",
              "    <tr>\n",
              "      <th>User 2</th>\n",
              "      <td>2.2</td>\n",
              "      <td>3.18</td>\n",
              "      <td>3.21</td>\n",
              "      <td>2.63</td>\n",
              "      <td>1.86</td>\n",
              "      <td>2.32</td>\n",
              "    </tr>\n",
              "    <tr>\n",
              "      <th>User 3</th>\n",
              "      <td>0.8</td>\n",
              "      <td>1.54</td>\n",
              "      <td>3.18</td>\n",
              "      <td>2.80</td>\n",
              "      <td>1.31</td>\n",
              "      <td>2.50</td>\n",
              "    </tr>\n",
              "    <tr>\n",
              "      <th>User 4</th>\n",
              "      <td>1.8</td>\n",
              "      <td>1.52</td>\n",
              "      <td>3.18</td>\n",
              "      <td>2.96</td>\n",
              "      <td>1.57</td>\n",
              "      <td>2.86</td>\n",
              "    </tr>\n",
              "    <tr>\n",
              "      <th>User 5</th>\n",
              "      <td>1.2</td>\n",
              "      <td>2.02</td>\n",
              "      <td>3.18</td>\n",
              "      <td>2.78</td>\n",
              "      <td>1.18</td>\n",
              "      <td>2.54</td>\n",
              "    </tr>\n",
              "  </tbody>\n",
              "</table>\n",
              "</div>\n",
              "      <button class=\"colab-df-convert\" onclick=\"convertToInteractive('df-8d31d596-9276-4bf8-97d4-dde94aab0a0a')\"\n",
              "              title=\"Convert this dataframe to an interactive table.\"\n",
              "              style=\"display:none;\">\n",
              "        \n",
              "  <svg xmlns=\"http://www.w3.org/2000/svg\" height=\"24px\"viewBox=\"0 0 24 24\"\n",
              "       width=\"24px\">\n",
              "    <path d=\"M0 0h24v24H0V0z\" fill=\"none\"/>\n",
              "    <path d=\"M18.56 5.44l.94 2.06.94-2.06 2.06-.94-2.06-.94-.94-2.06-.94 2.06-2.06.94zm-11 1L8.5 8.5l.94-2.06 2.06-.94-2.06-.94L8.5 2.5l-.94 2.06-2.06.94zm10 10l.94 2.06.94-2.06 2.06-.94-2.06-.94-.94-2.06-.94 2.06-2.06.94z\"/><path d=\"M17.41 7.96l-1.37-1.37c-.4-.4-.92-.59-1.43-.59-.52 0-1.04.2-1.43.59L10.3 9.45l-7.72 7.72c-.78.78-.78 2.05 0 2.83L4 21.41c.39.39.9.59 1.41.59.51 0 1.02-.2 1.41-.59l7.78-7.78 2.81-2.81c.8-.78.8-2.07 0-2.86zM5.41 20L4 18.59l7.72-7.72 1.47 1.35L5.41 20z\"/>\n",
              "  </svg>\n",
              "      </button>\n",
              "      \n",
              "  <style>\n",
              "    .colab-df-container {\n",
              "      display:flex;\n",
              "      flex-wrap:wrap;\n",
              "      gap: 12px;\n",
              "    }\n",
              "\n",
              "    .colab-df-convert {\n",
              "      background-color: #E8F0FE;\n",
              "      border: none;\n",
              "      border-radius: 50%;\n",
              "      cursor: pointer;\n",
              "      display: none;\n",
              "      fill: #1967D2;\n",
              "      height: 32px;\n",
              "      padding: 0 0 0 0;\n",
              "      width: 32px;\n",
              "    }\n",
              "\n",
              "    .colab-df-convert:hover {\n",
              "      background-color: #E2EBFA;\n",
              "      box-shadow: 0px 1px 2px rgba(60, 64, 67, 0.3), 0px 1px 3px 1px rgba(60, 64, 67, 0.15);\n",
              "      fill: #174EA6;\n",
              "    }\n",
              "\n",
              "    [theme=dark] .colab-df-convert {\n",
              "      background-color: #3B4455;\n",
              "      fill: #D2E3FC;\n",
              "    }\n",
              "\n",
              "    [theme=dark] .colab-df-convert:hover {\n",
              "      background-color: #434B5C;\n",
              "      box-shadow: 0px 1px 3px 1px rgba(0, 0, 0, 0.15);\n",
              "      filter: drop-shadow(0px 1px 2px rgba(0, 0, 0, 0.3));\n",
              "      fill: #FFFFFF;\n",
              "    }\n",
              "  </style>\n",
              "\n",
              "      <script>\n",
              "        const buttonEl =\n",
              "          document.querySelector('#df-8d31d596-9276-4bf8-97d4-dde94aab0a0a button.colab-df-convert');\n",
              "        buttonEl.style.display =\n",
              "          google.colab.kernel.accessAllowed ? 'block' : 'none';\n",
              "\n",
              "        async function convertToInteractive(key) {\n",
              "          const element = document.querySelector('#df-8d31d596-9276-4bf8-97d4-dde94aab0a0a');\n",
              "          const dataTable =\n",
              "            await google.colab.kernel.invokeFunction('convertToInteractive',\n",
              "                                                     [key], {});\n",
              "          if (!dataTable) return;\n",
              "\n",
              "          const docLinkHtml = 'Like what you see? Visit the ' +\n",
              "            '<a target=\"_blank\" href=https://colab.research.google.com/notebooks/data_table.ipynb>data table notebook</a>'\n",
              "            + ' to learn more about interactive tables.';\n",
              "          element.innerHTML = '';\n",
              "          dataTable['output_type'] = 'display_data';\n",
              "          await google.colab.output.renderOutput(dataTable, element);\n",
              "          const docLink = document.createElement('div');\n",
              "          docLink.innerHTML = docLinkHtml;\n",
              "          element.appendChild(docLink);\n",
              "        }\n",
              "      </script>\n",
              "    </div>\n",
              "  </div>\n",
              "  "
            ]
          },
          "metadata": {},
          "execution_count": 20
        }
      ]
    },
    {
      "cell_type": "code",
      "source": [
        "TACor = {}\n",
        "for i in TAData:\n",
        "    TACor[i] = []\n",
        "    for j in TAData:\n",
        "        if i == j:\n",
        "            continue\n",
        "        if abs(TAData[i].corr(TAData[j])) > 0.5:\n",
        "            TACor[i].append((j,round(TAData[i].corr(TAData[j]), 4)))\n",
        "TACor = {key:val for key, val in TACor.items() if val != []} \n",
        "pd.DataFrame(TACor.values(), index=TACor.keys())"
      ],
      "metadata": {
        "colab": {
          "base_uri": "https://localhost:8080/",
          "height": 206
        },
        "id": "0xFmFZ7W9vnW",
        "outputId": "e3f1b6fc-a08a-4203-8491-6ceb18c3e58e"
      },
      "execution_count": null,
      "outputs": [
        {
          "output_type": "execute_result",
          "data": {
            "text/plain": [
              "                                                                                 0  \\\n",
              "Average ratings on juice bars                   (Average ratings on parks, 0.7507)   \n",
              "Average ratings on museums                    (Average ratings on resorts, 0.5813)   \n",
              "Average ratings on resorts                    (Average ratings on museums, 0.5813)   \n",
              "Average ratings on parks                   (Average ratings on juice bars, 0.7507)   \n",
              "Average ratings on religious institutions      (Average ratings on parks, -0.7107)   \n",
              "\n",
              "                                                                                           1  \n",
              "Average ratings on juice bars                                                           None  \n",
              "Average ratings on museums                                                              None  \n",
              "Average ratings on resorts                                                              None  \n",
              "Average ratings on parks                   (Average ratings on religious institutions, -0...  \n",
              "Average ratings on religious institutions                                               None  "
            ],
            "text/html": [
              "\n",
              "  <div id=\"df-ba40bd76-2dad-4213-8d8c-62e4c39ebd98\">\n",
              "    <div class=\"colab-df-container\">\n",
              "      <div>\n",
              "<style scoped>\n",
              "    .dataframe tbody tr th:only-of-type {\n",
              "        vertical-align: middle;\n",
              "    }\n",
              "\n",
              "    .dataframe tbody tr th {\n",
              "        vertical-align: top;\n",
              "    }\n",
              "\n",
              "    .dataframe thead th {\n",
              "        text-align: right;\n",
              "    }\n",
              "</style>\n",
              "<table border=\"1\" class=\"dataframe\">\n",
              "  <thead>\n",
              "    <tr style=\"text-align: right;\">\n",
              "      <th></th>\n",
              "      <th>0</th>\n",
              "      <th>1</th>\n",
              "    </tr>\n",
              "  </thead>\n",
              "  <tbody>\n",
              "    <tr>\n",
              "      <th>Average ratings on juice bars</th>\n",
              "      <td>(Average ratings on parks, 0.7507)</td>\n",
              "      <td>None</td>\n",
              "    </tr>\n",
              "    <tr>\n",
              "      <th>Average ratings on museums</th>\n",
              "      <td>(Average ratings on resorts, 0.5813)</td>\n",
              "      <td>None</td>\n",
              "    </tr>\n",
              "    <tr>\n",
              "      <th>Average ratings on resorts</th>\n",
              "      <td>(Average ratings on museums, 0.5813)</td>\n",
              "      <td>None</td>\n",
              "    </tr>\n",
              "    <tr>\n",
              "      <th>Average ratings on parks</th>\n",
              "      <td>(Average ratings on juice bars, 0.7507)</td>\n",
              "      <td>(Average ratings on religious institutions, -0...</td>\n",
              "    </tr>\n",
              "    <tr>\n",
              "      <th>Average ratings on religious institutions</th>\n",
              "      <td>(Average ratings on parks, -0.7107)</td>\n",
              "      <td>None</td>\n",
              "    </tr>\n",
              "  </tbody>\n",
              "</table>\n",
              "</div>\n",
              "      <button class=\"colab-df-convert\" onclick=\"convertToInteractive('df-ba40bd76-2dad-4213-8d8c-62e4c39ebd98')\"\n",
              "              title=\"Convert this dataframe to an interactive table.\"\n",
              "              style=\"display:none;\">\n",
              "        \n",
              "  <svg xmlns=\"http://www.w3.org/2000/svg\" height=\"24px\"viewBox=\"0 0 24 24\"\n",
              "       width=\"24px\">\n",
              "    <path d=\"M0 0h24v24H0V0z\" fill=\"none\"/>\n",
              "    <path d=\"M18.56 5.44l.94 2.06.94-2.06 2.06-.94-2.06-.94-.94-2.06-.94 2.06-2.06.94zm-11 1L8.5 8.5l.94-2.06 2.06-.94-2.06-.94L8.5 2.5l-.94 2.06-2.06.94zm10 10l.94 2.06.94-2.06 2.06-.94-2.06-.94-.94-2.06-.94 2.06-2.06.94z\"/><path d=\"M17.41 7.96l-1.37-1.37c-.4-.4-.92-.59-1.43-.59-.52 0-1.04.2-1.43.59L10.3 9.45l-7.72 7.72c-.78.78-.78 2.05 0 2.83L4 21.41c.39.39.9.59 1.41.59.51 0 1.02-.2 1.41-.59l7.78-7.78 2.81-2.81c.8-.78.8-2.07 0-2.86zM5.41 20L4 18.59l7.72-7.72 1.47 1.35L5.41 20z\"/>\n",
              "  </svg>\n",
              "      </button>\n",
              "      \n",
              "  <style>\n",
              "    .colab-df-container {\n",
              "      display:flex;\n",
              "      flex-wrap:wrap;\n",
              "      gap: 12px;\n",
              "    }\n",
              "\n",
              "    .colab-df-convert {\n",
              "      background-color: #E8F0FE;\n",
              "      border: none;\n",
              "      border-radius: 50%;\n",
              "      cursor: pointer;\n",
              "      display: none;\n",
              "      fill: #1967D2;\n",
              "      height: 32px;\n",
              "      padding: 0 0 0 0;\n",
              "      width: 32px;\n",
              "    }\n",
              "\n",
              "    .colab-df-convert:hover {\n",
              "      background-color: #E2EBFA;\n",
              "      box-shadow: 0px 1px 2px rgba(60, 64, 67, 0.3), 0px 1px 3px 1px rgba(60, 64, 67, 0.15);\n",
              "      fill: #174EA6;\n",
              "    }\n",
              "\n",
              "    [theme=dark] .colab-df-convert {\n",
              "      background-color: #3B4455;\n",
              "      fill: #D2E3FC;\n",
              "    }\n",
              "\n",
              "    [theme=dark] .colab-df-convert:hover {\n",
              "      background-color: #434B5C;\n",
              "      box-shadow: 0px 1px 3px 1px rgba(0, 0, 0, 0.15);\n",
              "      filter: drop-shadow(0px 1px 2px rgba(0, 0, 0, 0.3));\n",
              "      fill: #FFFFFF;\n",
              "    }\n",
              "  </style>\n",
              "\n",
              "      <script>\n",
              "        const buttonEl =\n",
              "          document.querySelector('#df-ba40bd76-2dad-4213-8d8c-62e4c39ebd98 button.colab-df-convert');\n",
              "        buttonEl.style.display =\n",
              "          google.colab.kernel.accessAllowed ? 'block' : 'none';\n",
              "\n",
              "        async function convertToInteractive(key) {\n",
              "          const element = document.querySelector('#df-ba40bd76-2dad-4213-8d8c-62e4c39ebd98');\n",
              "          const dataTable =\n",
              "            await google.colab.kernel.invokeFunction('convertToInteractive',\n",
              "                                                     [key], {});\n",
              "          if (!dataTable) return;\n",
              "\n",
              "          const docLinkHtml = 'Like what you see? Visit the ' +\n",
              "            '<a target=\"_blank\" href=https://colab.research.google.com/notebooks/data_table.ipynb>data table notebook</a>'\n",
              "            + ' to learn more about interactive tables.';\n",
              "          element.innerHTML = '';\n",
              "          dataTable['output_type'] = 'display_data';\n",
              "          await google.colab.output.renderOutput(dataTable, element);\n",
              "          const docLink = document.createElement('div');\n",
              "          docLink.innerHTML = docLinkHtml;\n",
              "          element.appendChild(docLink);\n",
              "        }\n",
              "      </script>\n",
              "    </div>\n",
              "  </div>\n",
              "  "
            ]
          },
          "metadata": {},
          "execution_count": 21
        }
      ]
    },
    {
      "cell_type": "markdown",
      "source": [
        "This table shows the correlations between average ratings greater than 50% for the Tripadvisor Dataset. some of the correlations are intuitive, whereas others are somewhat surprising. For example, the strong inverse correlation between parks and religious institutions."
      ],
      "metadata": {
        "id": "GTaIGkDJ91kb"
      }
    },
    {
      "cell_type": "markdown",
      "source": [
        "# **Finding Clusters in our Data**"
      ],
      "metadata": {
        "id": "0qLyFu4Z98_B"
      }
    },
    {
      "cell_type": "markdown",
      "source": [
        "We decided to use K-Means Clustering since it seemed the a solid way to explore whether we had clusters and what they are."
      ],
      "metadata": {
        "id": "l9CnbPNK-seL"
      }
    },
    {
      "cell_type": "code",
      "source": [
        "import matplotlib.pyplot as plt\n",
        "from sklearn.cluster import KMeans\n",
        "from sklearn.metrics import silhouette_score\n",
        "from sklearn.preprocessing import StandardScaler\n",
        "from sklearn.decomposition import PCA\n",
        "from sklearn.discriminant_analysis import LinearDiscriminantAnalysis"
      ],
      "metadata": {
        "id": "DkfQ740k_RNn"
      },
      "execution_count": null,
      "outputs": []
    },
    {
      "cell_type": "code",
      "source": [
        "commonCategories =[\n",
        "    'Average ratings on art galleries',\n",
        "    'Average ratings on dance clubs',\n",
        "    'Average ratings on juice bars',\n",
        "    'Average ratings on restaurants',\n",
        "    'Average ratings on museums',\n",
        "    'Average ratings on resorts',\n",
        "    'Average ratings on parks',\n",
        "    'Average ratings on beaches',\n",
        "    'Average ratings on theatres'\n",
        "]"
      ],
      "metadata": {
        "id": "UkdrcrMF_GGu"
      },
      "execution_count": null,
      "outputs": []
    },
    {
      "cell_type": "code",
      "source": [
        "TANew = TAData[commonCategories] \n",
        "inertias = []\n",
        "for i in range(1,10):\n",
        "    model = KMeans(n_clusters=i)\n",
        "    model.fit(TANew)\n",
        "    inertias.append(model.inertia_)\n",
        "plt.figure(figsize=(16,8))\n",
        "plt.plot(range(1,10), inertias, 'bx-')\n",
        "plt.xlabel('k')\n",
        "plt.ylabel('inertias')\n",
        "plt.title('The Elbow Method showing the optimal k for Tripadvisor')\n",
        "plt.show()"
      ],
      "metadata": {
        "colab": {
          "base_uri": "https://localhost:8080/",
          "height": 513
        },
        "id": "75P3G9p1-xPn",
        "outputId": "db508f96-c8c6-4555-ab14-0132d85a8a54"
      },
      "execution_count": null,
      "outputs": [
        {
          "output_type": "display_data",
          "data": {
            "text/plain": [
              "<Figure size 1152x576 with 1 Axes>"
            ],
            "image/png": "[encoded data removed]"
          },
          "metadata": {
            "needs_background": "light"
          }
        }
      ]
    },
    {
      "cell_type": "code",
      "source": [
        "kmeans = KMeans(n_clusters=2)\n",
        "kmeans.fit(TANew)\n",
        "clusterNames = kmeans.labels_\n",
        "\n",
        "X = TANew\n",
        "y = clusterNames\n",
        "target_names = [0,1]\n",
        "\n",
        "pca = PCA(n_components=2)\n",
        "X_r = pca.fit(X).transform(X)\n",
        "\n",
        "\n",
        "plt.figure(figsize=(16,8))\n",
        "colors = ['#ffa60a', '#880000', '#0a0054',]\n",
        "\n",
        "for color, i, target_name in zip(colors, range(0,4), target_names):\n",
        "    plt.scatter(X_r[y == i, 0], X_r[y == i, 1], color=color, alpha=.5,\n",
        "                label=target_name)\n",
        "plt.title('PCA of Tripadvisor Dataset')\n",
        "\n",
        "plt.show()"
      ],
      "metadata": {
        "colab": {
          "base_uri": "https://localhost:8080/",
          "height": 499
        },
        "id": "wqlDfCDd_Xzt",
        "outputId": "282b06c5-7f46-4610-8438-61675e2efd1d"
      },
      "execution_count": null,
      "outputs": [
        {
          "output_type": "display_data",
          "data": {
            "text/plain": [
              "<Figure size 1152x576 with 1 Axes>"
            ],
            "image/png": "[encoded data removed]"
          },
          "metadata": {
            "needs_background": "light"
          }
        }
      ]
    },
    {
      "cell_type": "code",
      "source": [
        "people = list(clusterNames)\n",
        "\n",
        "zero = []\n",
        "one = []\n",
        "\n",
        "for i in range(len(people)):\n",
        "    if people[i] == 0:\n",
        "        zero.append(i)\n",
        "    elif people[i] == 1:\n",
        "        one.append(i)"
      ],
      "metadata": {
        "id": "dIQk-D0t_bdi"
      },
      "execution_count": null,
      "outputs": []
    },
    {
      "cell_type": "code",
      "source": [
        "TANew.iloc[zero].mean() #Yellow Cluster"
      ],
      "metadata": {
        "colab": {
          "base_uri": "https://localhost:8080/"
        },
        "id": "lqAxJ1S7_ePr",
        "outputId": "4e94376a-7fc1-4a14-ca64-d570cb8571a9"
      },
      "execution_count": null,
      "outputs": [
        {
          "output_type": "execute_result",
          "data": {
            "text/plain": [
              "Average ratings on art galleries    0.901940\n",
              "Average ratings on dance clubs      1.413333\n",
              "Average ratings on juice bars       1.805124\n",
              "Average ratings on restaurants      0.574751\n",
              "Average ratings on museums          1.161592\n",
              "Average ratings on resorts          2.156517\n",
              "Average ratings on parks            3.186816\n",
              "Average ratings on beaches          2.808184\n",
              "Average ratings on theatres         1.524229\n",
              "dtype: float64"
            ]
          },
          "metadata": {},
          "execution_count": 34
        }
      ]
    },
    {
      "cell_type": "code",
      "source": [
        "TANew.iloc[one].mean() # Red Cluster"
      ],
      "metadata": {
        "colab": {
          "base_uri": "https://localhost:8080/"
        },
        "id": "08tZRD1K_g9G",
        "outputId": "5fbdf072-c9c7-4a40-8c77-617818beac78"
      },
      "execution_count": null,
      "outputs": [
        {
          "output_type": "execute_result",
          "data": {
            "text/plain": [
              "Average ratings on art galleries    0.887111\n",
              "Average ratings on dance clubs      1.310381\n",
              "Average ratings on juice bars       0.462595\n",
              "Average ratings on restaurants      0.503114\n",
              "Average ratings on museums          0.785433\n",
              "Average ratings on resorts          1.624775\n",
              "Average ratings on parks            3.176851\n",
              "Average ratings on beaches          2.853754\n",
              "Average ratings on theatres         1.600882\n",
              "dtype: float64"
            ]
          },
          "metadata": {},
          "execution_count": 35
        }
      ]
    },
    {
      "cell_type": "markdown",
      "source": [
        "# **Predicting Ratings**"
      ],
      "metadata": {
        "id": "DXtJukqUAVMp"
      }
    },
    {
      "cell_type": "markdown",
      "source": [
        "Based on the clusters we found, we wondered if we could predict a user's rating for a attraction based on their other ratings. To answer this question we decided to use the K-Closest neighbors algorithm and test a few example users to see if we could predict their ratings.\n",
        "\n",
        "Below we set up a sample user whos ratings were similar to an average user from the cluster that loves art galleries."
      ],
      "metadata": {
        "id": "mY8CvglUAdsh"
      }
    },
    {
      "cell_type": "code",
      "source": [
        "from sklearn.feature_extraction import DictVectorizer\n",
        "from sklearn.preprocessing import StandardScaler\n",
        "from sklearn.neighbors import KNeighborsRegressor\n",
        "from sklearn.pipeline import Pipeline\n",
        "from sklearn.model_selection import cross_val_score"
      ],
      "metadata": {
        "id": "qbLItHTWAoH6"
      },
      "execution_count": null,
      "outputs": []
    },
    {
      "cell_type": "code",
      "source": [
        "TAKData = TAData[commonCategories]\n",
        "features = [ \n",
        "    'Average ratings on art galleries',\n",
        "    'Average ratings on dance clubs',\n",
        "    'Average ratings on juice bars',\n",
        "    'Average ratings on museums',\n",
        "    'Average ratings on resorts',\n",
        "    'Average ratings on parks',\n",
        "    'Average ratings on beaches',\n",
        "    'Average ratings on theatres'\n",
        "]\n",
        "\n",
        "xTrainDict = TAKData[features].to_dict(orient='records') # defining training data\n",
        "yTrain = TAKData['Average ratings on restaurants'] # what we want to find out \n",
        "vec = DictVectorizer(sparse=False)\n",
        "scaler = StandardScaler()"
      ],
      "metadata": {
        "id": "Y3L6vKj1AYKq"
      },
      "execution_count": null,
      "outputs": []
    },
    {
      "cell_type": "code",
      "source": [
        "MAE = {}\n",
        "high = (0,99)\n",
        "for i in range(1,50):\n",
        "    model = KNeighborsRegressor(n_neighbors=i)\n",
        "    pipeline = Pipeline([(\"vectorizer\", vec), (\"scaler\", scaler), (\"fit\", model)])\n",
        "    scores = -cross_val_score(pipeline, xTrainDict, yTrain, cv=5, scoring=\"neg_mean_absolute_error\") # run pipeline with 5 folds \n",
        "    MAE[i]=scores.mean() # find mean to plot easily \n",
        "    if scores.mean() < high[1]: #store value if lower \n",
        "        high = (i,scores.mean()) \n",
        "print(high)\n",
        "plt.plot(*zip(*sorted(MAE.items()))) # plot all items \n",
        "plt.show()"
      ],
      "metadata": {
        "colab": {
          "base_uri": "https://localhost:8080/",
          "height": 283
        },
        "id": "x3_FmK67AtrF",
        "outputId": "a4682d40-04c5-489e-aa1d-ff0278bb6211"
      },
      "execution_count": null,
      "outputs": [
        {
          "output_type": "stream",
          "name": "stdout",
          "text": [
            "(12, 0.12420068027210884)\n"
          ]
        },
        {
          "output_type": "display_data",
          "data": {
            "text/plain": [
              "<Figure size 432x288 with 1 Axes>"
            ],
            "image/png": "[encoded data removed]"
          },
          "metadata": {
            "needs_background": "light"
          }
        }
      ]
    },
    {
      "cell_type": "markdown",
      "source": [
        "From the graph above we see the optimal k is 12 with a MAE of 0.12. From the MAE we can see our model is pretty accurate with only 2.4% error on average. This model is a lot more predictive, and because we used cross validation we can be somewhat confident in the model's ability to generalize."
      ],
      "metadata": {
        "id": "Us0wl9_6A54R"
      }
    }
  ]
}